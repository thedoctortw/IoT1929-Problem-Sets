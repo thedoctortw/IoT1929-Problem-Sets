{
 "cells": [
  {
   "cell_type": "code",
   "execution_count": 6,
   "id": "7bc70d4b",
   "metadata": {},
   "outputs": [
    {
     "name": "stdout",
     "output_type": "stream",
     "text": [
      "Collecting pyserial\n",
      "  Downloading pyserial-3.5-py2.py3-none-any.whl (90 kB)\n",
      "Installing collected packages: pyserial\n",
      "Successfully installed pyserial-3.5\n",
      "Requirement already satisfied: requests in c:\\users\\win10\\anaconda3\\lib\\site-packages (2.25.1)\n",
      "Requirement already satisfied: certifi>=2017.4.17 in c:\\users\\win10\\anaconda3\\lib\\site-packages (from requests) (2020.12.5)\n",
      "Requirement already satisfied: urllib3<1.27,>=1.21.1 in c:\\users\\win10\\anaconda3\\lib\\site-packages (from requests) (1.26.4)\n",
      "Requirement already satisfied: idna<3,>=2.5 in c:\\users\\win10\\anaconda3\\lib\\site-packages (from requests) (2.10)\n",
      "Requirement already satisfied: chardet<5,>=3.0.2 in c:\\users\\win10\\anaconda3\\lib\\site-packages (from requests) (4.0.0)\n"
     ]
    }
   ],
   "source": [
    "!pip install pyserial\n",
    "!pip install requests"
   ]
  },
  {
   "cell_type": "code",
   "execution_count": null,
   "id": "d4a23b63",
   "metadata": {},
   "outputs": [
    {
     "name": "stdout",
     "output_type": "stream",
     "text": [
      "Sifre Giriniz : 1453\n",
      "b'Giris Yapamaz\\r\\n'\n",
      "Sifre Giriniz : 1923\n",
      "b'Giris Yapabilir\\r\\n'\n",
      "Sifre Giriniz : 666\n",
      "b'Giris Yapamaz\\r\\n'\n"
     ]
    }
   ],
   "source": [
    "import serial\n",
    "import time\n",
    "import requests\n",
    "arduino1 = serial.Serial('COM3',9600)\n",
    "try:\n",
    "    while True:\n",
    "        sifre = input(\"Sifre Giriniz : \")\n",
    "        gidecekVeri = sifre.encode()\n",
    "        arduino1.write(gidecekVeri)\n",
    "        time.sleep(2)\n",
    "        data = arduino1.readline()\n",
    "        print(data)\n",
    "except KeyboardInterrupt:\n",
    "    arduino1.close()"
   ]
  },
  {
   "cell_type": "code",
   "execution_count": null,
   "id": "a2b4502d",
   "metadata": {},
   "outputs": [],
   "source": []
  }
 ],
 "metadata": {
  "kernelspec": {
   "display_name": "Python 3",
   "language": "python",
   "name": "python3"
  },
  "language_info": {
   "codemirror_mode": {
    "name": "ipython",
    "version": 3
   },
   "file_extension": ".py",
   "mimetype": "text/x-python",
   "name": "python",
   "nbconvert_exporter": "python",
   "pygments_lexer": "ipython3",
   "version": "3.8.8"
  }
 },
 "nbformat": 4,
 "nbformat_minor": 5
}
